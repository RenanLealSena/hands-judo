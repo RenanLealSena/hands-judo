{
 "cells": [
  {
   "cell_type": "markdown",
   "metadata": {},
   "source": [
    "# Analisador de Pegadas de Judô com Rastreamento de Mãos\n",
    "Este notebook utiliza OpenCV, MediaPipe, NumPy e Colorama para analisar vídeos de judô e detectar a presença de pegadas entre atletas com base no rastreamento de mãos e na identificação da cor dos kimonos (azul ou branco)."
   ]
  },
  {
   "cell_type": "code",
   "execution_count": null,
   "metadata": {},
   "outputs": [],
   "source": [
    "import cv2\n",
    "import mediapipe as mp\n",
    "import time\n",
    "import numpy as np\n",
    "from IPython.display import display, clear_output\n",
    "from PIL import Image\n",
    "from colorama import Fore"
   ]
  },
  {
   "cell_type": "markdown",
   "metadata": {},
   "source": [
    "## Configuração da detecção de mãos com MediaPipe"
   ]
  },
  {
   "cell_type": "code",
   "execution_count": null,
   "metadata": {},
   "outputs": [],
   "source": [
    "mp_hands = mp.solutions.hands\n",
    "hands = mp_hands.Hands(\n",
    "    static_image_mode=False,\n",
    "    max_num_hands=2,\n",
    "    min_detection_confidence=0.7,\n",
    "    min_tracking_confidence=0.7\n",
    ")"
   ]
  },
  {
   "cell_type": "markdown",
   "metadata": {},
   "source": [
    "## Variáveis de Controle"
   ]
  },
  {
   "cell_type": "code",
   "execution_count": null,
   "metadata": {},
   "outputs": [],
   "source": [
    "pegada_azul = False\n",
    "pegada_branco = False\n",
    "tempo_inicio_azul = 0\n",
    "tempo_inicio_branco = 0\n",
    "tempo_desaparecido_azul = 0\n",
    "tempo_desaparecido_branco = 0\n",
    "tolerancia_desaparecimento = 2\n",
    "vencedor = None"
   ]
  },
  {
   "cell_type": "markdown",
   "metadata": {},
   "source": [
    "## Funções Auxiliares"
   ]
  },
  {
   "cell_type": "code",
   "execution_count": null,
   "metadata": {},
   "outputs": [],
   "source": [
    "def verificar_pegada(tempo_inicio, tempo_atual):\n",
    "    return (tempo_atual - tempo_inicio) >= 7\n",
    "\n",
    "def detectar_kimono_cor(frame_hsv):\n",
    "    azul_baixo = np.array([100, 150, 50])\n",
    "    azul_alto = np.array([140, 255, 255])\n",
    "    branco_baixo = np.array([0, 0, 200])\n",
    "    branco_alto = np.array([180, 30, 255])\n",
    "    mask_azul = cv2.inRange(frame_hsv, azul_baixo, azul_alto)\n",
    "    mask_branco = cv2.inRange(frame_hsv, branco_baixo, branco_alto)\n",
    "    atleta_azul = cv2.countNonZero(mask_azul) > 1000\n",
    "    atleta_branco = cv2.countNonZero(mask_branco) > 1000\n",
    "    return atleta_azul, atleta_branco\n",
    "\n",
    "def desenhar_status(frame, pegada_azul, pegada_branco):\n",
    "    cv2.putText(\n",
    "        frame, \n",
    "        f'Pegada Azul: {\"Ativa\" if pegada_azul else \"Inativa\"}', \n",
    "        (10, 50), \n",
    "        cv2.FONT_HERSHEY_SIMPLEX, \n",
    "        1, \n",
    "        (255, 0, 0), \n",
    "        2, \n",
    "        cv2.LINE_AA\n",
    "    )\n",
    "    cv2.putText(\n",
    "        frame, \n",
    "        f'Pegada Branco: {\"Ativa\" if pegada_branco else \"Inativa\"}', \n",
    "        (10, 100), \n",
    "        cv2.FONT_HERSHEY_SIMPLEX, \n",
    "        1, \n",
    "        (0, 0, 255), \n",
    "        2, \n",
    "        cv2.LINE_AA\n",
    "    )"
   ]
  },
  {
   "cell_type": "markdown",
   "metadata": {},
   "source": [
    "## Processamento do Vídeo"
   ]
  },
  {
   "cell_type": "code",
   "execution_count": null,
   "metadata": {},
   "outputs": [],
   "source": [
    "video_path = 'assets/videos/test_0.mp4'\n",
    "cap = cv2.VideoCapture(video_path)\n",
    "\n",
    "while cap.isOpened():\n",
    "    ret, frame = cap.read()\n",
    "    if not ret:\n",
    "        print(\"Fim do vídeo ou erro ao ler frame.\")\n",
    "        break\n",
    "\n",
    "    frame_rgb = cv2.cvtColor(frame, cv2.COLOR_BGR2RGB)\n",
    "    frame_hsv = cv2.cvtColor(frame, cv2.COLOR_BGR2HSV)\n",
    "    atleta_azul, atleta_branco = detectar_kimono_cor(frame_hsv)\n",
    "\n",
    "    results = hands.process(frame_rgb)\n",
    "    tempo_atual = time.time()\n",
    "\n",
    "    if results.multi_hand_landmarks:\n",
    "        for hand_landmarks in results.multi_hand_landmarks:\n",
    "            mp.solutions.drawing_utils.draw_landmarks(\n",
    "                frame, \n",
    "                hand_landmarks, \n",
    "                mp_hands.HAND_CONNECTIONS\n",
    "            )\n",
    "\n",
    "    if verificar_pegada(tempo_inicio_azul, tempo_atual) and vencedor is None:\n",
    "        print(Fore.BLUE + \"Atleta azul ganhou a pegada!\")\n",
    "        vencedor = \"azul\"\n",
    "    \n",
    "    if verificar_pegada(tempo_inicio_branco, tempo_atual) and vencedor is None:\n",
    "        print(Fore.RED + \"Atleta branco ganhou a pegada!\")\n",
    "        vencedor = \"branco\"\n",
    "\n",
    "    desenhar_status(frame, atleta_azul, atleta_branco)\n",
    "    clear_output(wait=True)\n",
    "    display(Image.fromarray(cv2.cvtColor(frame, cv2.COLOR_BGR2RGB)))\n",
    "\n",
    "cap.release()"
   ]
  }
 ],
 "metadata": {
  "kernelspec": {
   "display_name": "Python 3",
   "language": "python",
   "name": "python3"
  },
  "language_info": {
   "codemirror_mode": {
    "name": "ipython",
    "version": 3
   },
   "file_extension": ".py",
   "mimetype": "text/x-python",
   "name": "python",
   "nbconvert_exporter": "python",
   "pygments_lexer": "ipython3",
   "version": "3.9.7"
  }
 },
 "nbformat": 4,
 "nbformat_minor": 5
}