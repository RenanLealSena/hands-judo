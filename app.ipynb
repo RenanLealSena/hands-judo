{
 "cells": [
  {
   "cell_type": "code",
   "execution_count": null,
   "metadata": {},
   "outputs": [],
   "source": [
    "import cv2\n",
    "import mediapipe as mp\n",
    "import time\n",
    "import numpy as np\n",
    "from IPython.display import display\n",
    "from PIL import Image\n",
    "from colorama import Fore"
   ]
  },
  {
   "cell_type": "code",
   "execution_count": null,
   "metadata": {},
   "outputs": [],
   "source": [
    "# Configuração da detecção de mãos MediaPipe\n",
    "mp_hands = mp.solutions.hands\n",
    "hands = mp_hands.Hands(static_image_mode=False, max_num_hands=2, min_detection_confidence=0.7, min_tracking_confidence=0.7)\n",
    "\n",
    "# Variáveis de controle\n",
    "pegada_azul = False\n",
    "pegada_branco = False\n",
    "tempo_inicio_azul = 0\n",
    "tempo_inicio_branco = 0\n",
    "tempo_desaparecido_azul = 0\n",
    "tempo_desaparecido_branco = 0\n",
    "tolerancia_desaparecimento = 2\n",
    "vencedor = None"
   ]
  },
  {
   "cell_type": "code",
   "execution_count": null,
   "metadata": {},
   "outputs": [],
   "source": [
    "# Função para verificar se a pegada foi mantida por 7 segundos\n",
    "def verificar_pegada(tempo_inicio, tempo_atual):\n",
    "    return (tempo_atual - tempo_inicio) >= 7"
   ]
  },
  {
   "cell_type": "code",
   "execution_count": null,
   "metadata": {},
   "outputs": [],
   "source": [
    "# Inicialização do vídeo\n",
    "video_path = 'assets/videos/test_0.mp4'\n",
    "cap = cv2.VideoCapture(video_path)"
   ]
  },
  {
   "cell_type": "code",
   "execution_count": null,
   "metadata": {},
   "outputs": [],
   "source": [
    "# Funções auxiliares\n",
    "def detectar_kimono_cor(frame_hsv):\n",
    "    azul_baixo = np.array([100, 150, 50])\n",
    "    azul_alto = np.array([140, 255, 255])\n",
    "    branco_baixo = np.array([0, 0, 200])\n",
    "    branco_alto = np.array([180, 30, 255])\n",
    "    mask_azul = cv2.inRange(frame_hsv, azul_baixo, azul_alto)\n",
    "    mask_branco = cv2.inRange(frame_hsv, branco_baixo, branco_alto)\n",
    "    atleta_azul = cv2.countNonZero(mask_azul) > 1000\n",
    "    atleta_branco = cv2.countNonZero(mask_branco) > 1000\n",
    "    return atleta_azul, atleta_branco"
   ]
  },
  {
   "cell_type": "code",
   "execution_count": null,
   "metadata": {},
   "outputs": [],
   "source": [
    "# Função para desenhar status no frame\n",
    "def desenhar_status(frame, pegada_azul, pegada_branco):\n",
    "    cv2.putText(frame, f'Pegada Azul: {'Ativa' if pegada_azul else 'Inativa'}', \n",
    "                (10, 50), cv2.FONT_HERSHEY_SIMPLEX, 1, (255, 0, 0), 2, cv2.LINE_AA)\n",
    "    cv2.putText(frame, f'Pegada Branco: {'Ativa' if pegada_branco else 'Inativa'}', \n",
    "                (10, 100), cv2.FONT_HERSHEY_SIMPLEX, 1, (0, 0, 255), 2, cv2.LINE_AA)"
   ]
  },
  {
   "cell_type": "code",
   "execution_count": null,
   "metadata": {},
   "outputs": [],
   "source": [
     "# Processamento do vídeo\n", 
     "# Loop principal para processar cada frame do vídeo.\n", 
     "\n", 
     " while cap.isOpened():\n", 
     "     ret, frame = cap.read()\n", 
     "     if not ret:\n", 
     "         print('Fim do vídeo ou erro ao ler frame.')\n", 
     "         break\n", 
     "\n", 
     "     # Converter para RGB e HSV\n", 
     "     frame_rgb = cv2.cvtColor(frame, cv2.COLOR_BGR2RGB)\n", 
     "     frame_hsv = cv2.cvtColor(frame, cv2.COLOR_BGR2HSV)\n", 
     "\n", 
     "     # Detectar cor dos kimonos\n", 
     "     atleta_azul, atleta_branco = detectar_kimono_cor(frame_hsv)\n", 
     "\n", 
     "     # Processar o quadro para detecção de mãos\n", 
     "     results = hands.process(frame_rgb)\n", 
     "\n", 
     "     # Obter tempo atual\n", 
     "     tempo_atual = time.time()\n", 
     "\n", 
     "     # Verificar se há mãos detectadas\n", 
     "     if results.multi_hand_landmarks:\n", 
     "         for hand_landmarks in results.multi_hand_landmarks:\n", 
     "             mp.solutions.drawing_utils.draw_landmarks(frame, hand_landmarks, mp_hands.HAND_CONNECTIONS)\n", 
     "\n", 
     "     # Verificar se a pegada foi mantida por 7 segundos\n", 
     "     if verificar_pegada(tempo_inicio_azul, tempo_atual) and vencedor is None:\n", 
     "         print(Fore.BLUE + 'Atleta azul ganhou a pegada!')\n", 
     "         vencedor = 'azul' # Marca que o atleta azul ganhou\n", 
     "\n", 
     "     if verificar_pegada(tempo_inicio_branco, tempo_atual) and vencedor is None:\n", 
     "         print(Fore.RED + 'Atleta branco ganhou a pegada!')\n", 
     "         vencedor = 'branco' # Marca que o atleta branco ganhou\n", 
     "\n", 
     "     # Atualizar status e exibir o frame no Jupyter\n", 
     "     desenhar_status(frame, atleta_azul, atleta_branco)\n",  
	 "\n ",  
	 "      # Mostrar o frame \n ",  
	 "      display(Image.fromarray(frame)) # Display diretamente como BGR \n ",  
	 "\n ",  
	 "      # Adicionando um pequeno delay para o Jupyter processar a exibição \n ",  
	 "      time.sleep(0.05) \n ",  
	 "\n ",  
	 " cap.release() "
   ]
  }
 ],
"metadata": {
  "kernelspec": {
   "display_name": "Python 3",
   "language": "python",
   "name": "python3"
  },
  "language_info": {
   "name": "python",
   "version": "3.9.7", 
   "mimetype": "text/x-python", 
   "file_extension": ".py", 
   "pygments_lexer": "ipython3"
  }
 },
 "nbformat": 4,
 "nbformat_minor": 5
}
